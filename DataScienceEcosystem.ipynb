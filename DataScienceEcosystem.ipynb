{
  "nbformat": 4,
  "nbformat_minor": 0,
  "metadata": {
    "colab": {
      "provenance": []
    },
    "kernelspec": {
      "name": "python3",
      "display_name": "Python 3"
    },
    "language_info": {
      "name": "python"
    }
  },
  "cells": [
    {
      "cell_type": "markdown",
      "source": [
        "# Data Science Tools and Ecosystem"
      ],
      "metadata": {
        "id": "JJni-wrV6O3A"
      }
    },
    {
      "cell_type": "markdown",
      "source": [
        "In this notebook, Data Science Tools and Ecosystem are summarized."
      ],
      "metadata": {
        "id": "i9k-OMme7EQP"
      }
    },
    {
      "cell_type": "markdown",
      "source": [
        "**Objectives:**\n",
        "\n",
        "\n",
        "*   List popular languages for Data Science\n",
        "*   List popular libraries for Data science\n",
        "*   List popular Data Science Tools\n",
        "*   Few examples of arthetic examples using Python\n",
        "\n",
        "\n",
        "\n",
        "\n",
        "\n"
      ],
      "metadata": {
        "id": "uOapR0XR-3Hl"
      }
    },
    {
      "cell_type": "markdown",
      "source": [
        "Some of the popular languages that Data Scientists use are:\n",
        "1. Python\n",
        "2. R\n",
        "3. Scala"
      ],
      "metadata": {
        "id": "6XAjKAbB7bqE"
      }
    },
    {
      "cell_type": "markdown",
      "source": [
        "Some of the commonly used libraries used by Data Scientists include:\n",
        "1. Panda\n",
        "2. NumPy\n",
        "3. ggplot\n",
        "4. TensorFlow"
      ],
      "metadata": {
        "id": "2CFsa6w370-d"
      }
    },
    {
      "cell_type": "markdown",
      "source": [
        "\n",
        "Data Science Tools\n",
        "\n",
        "---\n",
        "Jupyter Notebooks\n",
        "\n",
        "---\n",
        "Git\n",
        "\n",
        "---\n",
        "SQL\n",
        "\n",
        "---\n",
        "\n",
        "\n",
        "\n",
        "\n",
        "\n",
        "\n",
        "\n",
        "\n",
        "\n"
      ],
      "metadata": {
        "id": "y8LTzFuE8VbW"
      }
    },
    {
      "cell_type": "markdown",
      "source": [
        "### Below are a few examples of evaluating arithmetic expressions in Python"
      ],
      "metadata": {
        "id": "HIZnqa6q9e4T"
      }
    },
    {
      "cell_type": "code",
      "source": [
        "(3*4)+5\n",
        "#This a simple arithmetic expression to mutiply then add integers\n"
      ],
      "metadata": {
        "colab": {
          "base_uri": "https://localhost:8080/"
        },
        "id": "Wzo1octY94wD",
        "outputId": "e833a903-778a-4f5e-99b7-3502bdb84002"
      },
      "execution_count": 2,
      "outputs": [
        {
          "output_type": "execute_result",
          "data": {
            "text/plain": [
              "17"
            ]
          },
          "metadata": {},
          "execution_count": 2
        }
      ]
    },
    {
      "cell_type": "code",
      "source": [
        "200/60\n",
        "#This will convert 200 minutes to hours by diving by 60"
      ],
      "metadata": {
        "colab": {
          "base_uri": "https://localhost:8080/"
        },
        "id": "3eFR4ktk-Qbd",
        "outputId": "18e9a94b-d99c-4374-852a-9c89560f9cd7"
      },
      "execution_count": 3,
      "outputs": [
        {
          "output_type": "execute_result",
          "data": {
            "text/plain": [
              "3.3333333333333335"
            ]
          },
          "metadata": {},
          "execution_count": 3
        }
      ]
    },
    {
      "cell_type": "markdown",
      "source": [
        "## Author\n",
        "Elijio Ku"
      ],
      "metadata": {
        "id": "P6k-K1es_suG"
      }
    }
  ]
}